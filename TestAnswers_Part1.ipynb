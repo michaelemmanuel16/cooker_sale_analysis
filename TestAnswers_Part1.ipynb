{
 "cells": [
  {
   "cell_type": "code",
   "execution_count": 1,
   "id": "83f5dc0c",
   "metadata": {},
   "outputs": [],
   "source": [
    "import pandas as pd\n",
    "import numpy as np\n",
    "import matplotlib.pyplot as plt\n",
    "import seaborn as sns\n",
    "\n",
    "%matplotlib inline"
   ]
  },
  {
   "cell_type": "code",
   "execution_count": 2,
   "id": "3dee1d5a",
   "metadata": {},
   "outputs": [],
   "source": [
    "#load the data\n",
    "xls_1 = pd.ExcelFile('AnalyticsSkillsTest-FictionalDataSet1.xlsx')\n",
    "sellers = pd.read_excel(xls_1, sheet_name=0)\n",
    "cooker_sales = pd.read_excel(xls_1, sheet_name=1)\n",
    "fuel_sales = pd.read_excel(xls_1, sheet_name=2)"
   ]
  },
  {
   "cell_type": "markdown",
   "id": "39703780",
   "metadata": {},
   "source": [
    "## Assess the data"
   ]
  },
  {
   "cell_type": "code",
   "execution_count": 3,
   "id": "1236066e",
   "metadata": {},
   "outputs": [
    {
     "data": {
      "text/html": [
       "<div>\n",
       "<style scoped>\n",
       "    .dataframe tbody tr th:only-of-type {\n",
       "        vertical-align: middle;\n",
       "    }\n",
       "\n",
       "    .dataframe tbody tr th {\n",
       "        vertical-align: top;\n",
       "    }\n",
       "\n",
       "    .dataframe thead th {\n",
       "        text-align: right;\n",
       "    }\n",
       "</style>\n",
       "<table border=\"1\" class=\"dataframe\">\n",
       "  <thead>\n",
       "    <tr style=\"text-align: right;\">\n",
       "      <th></th>\n",
       "      <th>id</th>\n",
       "      <th>type</th>\n",
       "    </tr>\n",
       "  </thead>\n",
       "  <tbody>\n",
       "    <tr>\n",
       "      <th>0</th>\n",
       "      <td>1</td>\n",
       "      <td>CSR</td>\n",
       "    </tr>\n",
       "    <tr>\n",
       "      <th>1</th>\n",
       "      <td>2</td>\n",
       "      <td>CSR</td>\n",
       "    </tr>\n",
       "    <tr>\n",
       "      <th>2</th>\n",
       "      <td>3</td>\n",
       "      <td>CSR</td>\n",
       "    </tr>\n",
       "    <tr>\n",
       "      <th>3</th>\n",
       "      <td>4</td>\n",
       "      <td>CSR</td>\n",
       "    </tr>\n",
       "    <tr>\n",
       "      <th>4</th>\n",
       "      <td>5</td>\n",
       "      <td>CSR</td>\n",
       "    </tr>\n",
       "  </tbody>\n",
       "</table>\n",
       "</div>"
      ],
      "text/plain": [
       "   id type\n",
       "0   1  CSR\n",
       "1   2  CSR\n",
       "2   3  CSR\n",
       "3   4  CSR\n",
       "4   5  CSR"
      ]
     },
     "execution_count": 3,
     "metadata": {},
     "output_type": "execute_result"
    }
   ],
   "source": [
    "sellers.head()"
   ]
  },
  {
   "cell_type": "code",
   "execution_count": 4,
   "id": "4c247203",
   "metadata": {},
   "outputs": [
    {
     "data": {
      "text/html": [
       "<div>\n",
       "<style scoped>\n",
       "    .dataframe tbody tr th:only-of-type {\n",
       "        vertical-align: middle;\n",
       "    }\n",
       "\n",
       "    .dataframe tbody tr th {\n",
       "        vertical-align: top;\n",
       "    }\n",
       "\n",
       "    .dataframe thead th {\n",
       "        text-align: right;\n",
       "    }\n",
       "</style>\n",
       "<table border=\"1\" class=\"dataframe\">\n",
       "  <thead>\n",
       "    <tr style=\"text-align: right;\">\n",
       "      <th></th>\n",
       "      <th>customer_id</th>\n",
       "      <th>customer_type</th>\n",
       "      <th>sale_date</th>\n",
       "      <th>sale_territory</th>\n",
       "      <th>seller_id</th>\n",
       "    </tr>\n",
       "  </thead>\n",
       "  <tbody>\n",
       "    <tr>\n",
       "      <th>0</th>\n",
       "      <td>5550019</td>\n",
       "      <td>restaurant</td>\n",
       "      <td>2019-01-01</td>\n",
       "      <td>north</td>\n",
       "      <td>1</td>\n",
       "    </tr>\n",
       "    <tr>\n",
       "      <th>1</th>\n",
       "      <td>5550026</td>\n",
       "      <td>household</td>\n",
       "      <td>2019-01-01</td>\n",
       "      <td>south</td>\n",
       "      <td>37</td>\n",
       "    </tr>\n",
       "    <tr>\n",
       "      <th>2</th>\n",
       "      <td>5550064</td>\n",
       "      <td>restaurant</td>\n",
       "      <td>2019-01-01</td>\n",
       "      <td>north</td>\n",
       "      <td>30</td>\n",
       "    </tr>\n",
       "    <tr>\n",
       "      <th>3</th>\n",
       "      <td>5550078</td>\n",
       "      <td>household</td>\n",
       "      <td>2019-01-01</td>\n",
       "      <td>south</td>\n",
       "      <td>16</td>\n",
       "    </tr>\n",
       "    <tr>\n",
       "      <th>4</th>\n",
       "      <td>5550083</td>\n",
       "      <td>household</td>\n",
       "      <td>2019-01-01</td>\n",
       "      <td>east</td>\n",
       "      <td>24</td>\n",
       "    </tr>\n",
       "  </tbody>\n",
       "</table>\n",
       "</div>"
      ],
      "text/plain": [
       "   customer_id customer_type  sale_date sale_territory  seller_id\n",
       "0      5550019    restaurant 2019-01-01          north          1\n",
       "1      5550026     household 2019-01-01          south         37\n",
       "2      5550064    restaurant 2019-01-01          north         30\n",
       "3      5550078     household 2019-01-01          south         16\n",
       "4      5550083     household 2019-01-01           east         24"
      ]
     },
     "execution_count": 4,
     "metadata": {},
     "output_type": "execute_result"
    }
   ],
   "source": [
    "cooker_sales.head()"
   ]
  },
  {
   "cell_type": "code",
   "execution_count": 5,
   "id": "c902b3e1",
   "metadata": {},
   "outputs": [
    {
     "data": {
      "text/html": [
       "<div>\n",
       "<style scoped>\n",
       "    .dataframe tbody tr th:only-of-type {\n",
       "        vertical-align: middle;\n",
       "    }\n",
       "\n",
       "    .dataframe tbody tr th {\n",
       "        vertical-align: top;\n",
       "    }\n",
       "\n",
       "    .dataframe thead th {\n",
       "        text-align: right;\n",
       "    }\n",
       "</style>\n",
       "<table border=\"1\" class=\"dataframe\">\n",
       "  <thead>\n",
       "    <tr style=\"text-align: right;\">\n",
       "      <th></th>\n",
       "      <th>customer_id</th>\n",
       "      <th>tx_date</th>\n",
       "      <th>litres_sold</th>\n",
       "    </tr>\n",
       "  </thead>\n",
       "  <tbody>\n",
       "    <tr>\n",
       "      <th>0</th>\n",
       "      <td>5551464</td>\n",
       "      <td>2019-02-24</td>\n",
       "      <td>2.121</td>\n",
       "    </tr>\n",
       "    <tr>\n",
       "      <th>1</th>\n",
       "      <td>5551528</td>\n",
       "      <td>2019-03-19</td>\n",
       "      <td>2.255</td>\n",
       "    </tr>\n",
       "    <tr>\n",
       "      <th>2</th>\n",
       "      <td>5551310</td>\n",
       "      <td>2019-01-28</td>\n",
       "      <td>2.103</td>\n",
       "    </tr>\n",
       "    <tr>\n",
       "      <th>3</th>\n",
       "      <td>5551891</td>\n",
       "      <td>2019-03-21</td>\n",
       "      <td>2.154</td>\n",
       "    </tr>\n",
       "    <tr>\n",
       "      <th>4</th>\n",
       "      <td>5551796</td>\n",
       "      <td>2019-03-23</td>\n",
       "      <td>2.230</td>\n",
       "    </tr>\n",
       "  </tbody>\n",
       "</table>\n",
       "</div>"
      ],
      "text/plain": [
       "   customer_id    tx_date  litres_sold\n",
       "0      5551464 2019-02-24        2.121\n",
       "1      5551528 2019-03-19        2.255\n",
       "2      5551310 2019-01-28        2.103\n",
       "3      5551891 2019-03-21        2.154\n",
       "4      5551796 2019-03-23        2.230"
      ]
     },
     "execution_count": 5,
     "metadata": {},
     "output_type": "execute_result"
    }
   ],
   "source": [
    "fuel_sales.head()"
   ]
  },
  {
   "cell_type": "code",
   "execution_count": 6,
   "id": "f40829af",
   "metadata": {},
   "outputs": [
    {
     "name": "stdout",
     "output_type": "stream",
     "text": [
      "<class 'pandas.core.frame.DataFrame'>\n",
      "RangeIndex: 10500 entries, 0 to 10499\n",
      "Data columns (total 2 columns):\n",
      " #   Column  Non-Null Count  Dtype \n",
      "---  ------  --------------  ----- \n",
      " 0   id      10500 non-null  int64 \n",
      " 1   type    10500 non-null  object\n",
      "dtypes: int64(1), object(1)\n",
      "memory usage: 164.2+ KB\n"
     ]
    }
   ],
   "source": [
    "sellers.info()"
   ]
  },
  {
   "cell_type": "code",
   "execution_count": 7,
   "id": "2034bb46",
   "metadata": {},
   "outputs": [
    {
     "name": "stdout",
     "output_type": "stream",
     "text": [
      "<class 'pandas.core.frame.DataFrame'>\n",
      "RangeIndex: 2500 entries, 0 to 2499\n",
      "Data columns (total 5 columns):\n",
      " #   Column          Non-Null Count  Dtype         \n",
      "---  ------          --------------  -----         \n",
      " 0   customer_id     2500 non-null   int64         \n",
      " 1   customer_type   2500 non-null   object        \n",
      " 2   sale_date       2500 non-null   datetime64[ns]\n",
      " 3   sale_territory  2500 non-null   object        \n",
      " 4   seller_id       2500 non-null   int64         \n",
      "dtypes: datetime64[ns](1), int64(2), object(2)\n",
      "memory usage: 97.8+ KB\n"
     ]
    }
   ],
   "source": [
    "cooker_sales.info()"
   ]
  },
  {
   "cell_type": "code",
   "execution_count": 8,
   "id": "d4fbd432",
   "metadata": {},
   "outputs": [
    {
     "name": "stdout",
     "output_type": "stream",
     "text": [
      "<class 'pandas.core.frame.DataFrame'>\n",
      "RangeIndex: 41372 entries, 0 to 41371\n",
      "Data columns (total 3 columns):\n",
      " #   Column       Non-Null Count  Dtype         \n",
      "---  ------       --------------  -----         \n",
      " 0   customer_id  41372 non-null  int64         \n",
      " 1   tx_date      41372 non-null  datetime64[ns]\n",
      " 2   litres_sold  41372 non-null  float64       \n",
      "dtypes: datetime64[ns](1), float64(1), int64(1)\n",
      "memory usage: 969.8 KB\n"
     ]
    }
   ],
   "source": [
    "fuel_sales.info()"
   ]
  },
  {
   "cell_type": "markdown",
   "id": "508955dc",
   "metadata": {},
   "source": [
    "## Analyze the data"
   ]
  },
  {
   "cell_type": "markdown",
   "id": "95d9fedb",
   "metadata": {},
   "source": [
    "### What is the sales productivity for each channel "
   ]
  },
  {
   "cell_type": "code",
   "execution_count": 9,
   "id": "3ba6df7a",
   "metadata": {},
   "outputs": [],
   "source": [
    "#rename id to seller id for merge with cooker_sales\n",
    "sellers.rename(columns = {'id':'seller_id'}, inplace=True)\n",
    "\n",
    "#merge dataframes\n",
    "sales_data = pd.merge(cooker_sales, sellers, on='seller_id')\n",
    "merged_data = pd.merge(sales_data, fuel_sales, on='customer_id')"
   ]
  },
  {
   "cell_type": "code",
   "execution_count": 10,
   "id": "51b4032d",
   "metadata": {},
   "outputs": [
    {
     "data": {
      "text/html": [
       "<div>\n",
       "<style scoped>\n",
       "    .dataframe tbody tr th:only-of-type {\n",
       "        vertical-align: middle;\n",
       "    }\n",
       "\n",
       "    .dataframe tbody tr th {\n",
       "        vertical-align: top;\n",
       "    }\n",
       "\n",
       "    .dataframe thead th {\n",
       "        text-align: right;\n",
       "    }\n",
       "</style>\n",
       "<table border=\"1\" class=\"dataframe\">\n",
       "  <thead>\n",
       "    <tr style=\"text-align: right;\">\n",
       "      <th></th>\n",
       "      <th>customer_id</th>\n",
       "      <th>customer_type</th>\n",
       "      <th>sale_date</th>\n",
       "      <th>sale_territory</th>\n",
       "      <th>seller_id</th>\n",
       "      <th>type</th>\n",
       "      <th>tx_date</th>\n",
       "      <th>litres_sold</th>\n",
       "    </tr>\n",
       "  </thead>\n",
       "  <tbody>\n",
       "    <tr>\n",
       "      <th>0</th>\n",
       "      <td>5550019</td>\n",
       "      <td>restaurant</td>\n",
       "      <td>2019-01-01</td>\n",
       "      <td>north</td>\n",
       "      <td>1</td>\n",
       "      <td>CSR</td>\n",
       "      <td>2019-01-10</td>\n",
       "      <td>1.227</td>\n",
       "    </tr>\n",
       "    <tr>\n",
       "      <th>1</th>\n",
       "      <td>5550019</td>\n",
       "      <td>restaurant</td>\n",
       "      <td>2019-01-01</td>\n",
       "      <td>north</td>\n",
       "      <td>1</td>\n",
       "      <td>CSR</td>\n",
       "      <td>2019-03-03</td>\n",
       "      <td>0.514</td>\n",
       "    </tr>\n",
       "    <tr>\n",
       "      <th>2</th>\n",
       "      <td>5550019</td>\n",
       "      <td>restaurant</td>\n",
       "      <td>2019-01-01</td>\n",
       "      <td>north</td>\n",
       "      <td>1</td>\n",
       "      <td>CSR</td>\n",
       "      <td>2019-03-10</td>\n",
       "      <td>1.173</td>\n",
       "    </tr>\n",
       "    <tr>\n",
       "      <th>3</th>\n",
       "      <td>5550019</td>\n",
       "      <td>restaurant</td>\n",
       "      <td>2019-01-01</td>\n",
       "      <td>north</td>\n",
       "      <td>1</td>\n",
       "      <td>CSR</td>\n",
       "      <td>2019-02-25</td>\n",
       "      <td>0.678</td>\n",
       "    </tr>\n",
       "    <tr>\n",
       "      <th>4</th>\n",
       "      <td>5550019</td>\n",
       "      <td>restaurant</td>\n",
       "      <td>2019-01-01</td>\n",
       "      <td>north</td>\n",
       "      <td>1</td>\n",
       "      <td>CSR</td>\n",
       "      <td>2019-02-17</td>\n",
       "      <td>0.634</td>\n",
       "    </tr>\n",
       "  </tbody>\n",
       "</table>\n",
       "</div>"
      ],
      "text/plain": [
       "   customer_id customer_type  sale_date sale_territory  seller_id type  \\\n",
       "0      5550019    restaurant 2019-01-01          north          1  CSR   \n",
       "1      5550019    restaurant 2019-01-01          north          1  CSR   \n",
       "2      5550019    restaurant 2019-01-01          north          1  CSR   \n",
       "3      5550019    restaurant 2019-01-01          north          1  CSR   \n",
       "4      5550019    restaurant 2019-01-01          north          1  CSR   \n",
       "\n",
       "     tx_date  litres_sold  \n",
       "0 2019-01-10        1.227  \n",
       "1 2019-03-03        0.514  \n",
       "2 2019-03-10        1.173  \n",
       "3 2019-02-25        0.678  \n",
       "4 2019-02-17        0.634  "
      ]
     },
     "execution_count": 10,
     "metadata": {},
     "output_type": "execute_result"
    }
   ],
   "source": [
    "merged_data.head()"
   ]
  },
  {
   "cell_type": "code",
   "execution_count": 11,
   "id": "d9af2337",
   "metadata": {},
   "outputs": [
    {
     "data": {
      "text/plain": [
       "Referrer    15968\n",
       "CSR         14529\n",
       "Agent       10875\n",
       "Name: type, dtype: int64"
      ]
     },
     "execution_count": 11,
     "metadata": {},
     "output_type": "execute_result"
    }
   ],
   "source": [
    "# get count for each seller type according to cooker sales\n",
    "merged_data.type.value_counts()"
   ]
  },
  {
   "cell_type": "code",
   "execution_count": 12,
   "id": "e084f910",
   "metadata": {},
   "outputs": [
    {
     "data": {
      "image/png": "[encoded data removed]",
      "text/plain": [
       "<Figure size 640x480 with 1 Axes>"
      ]
     },
     "metadata": {},
     "output_type": "display_data"
    }
   ],
   "source": [
    "# Create bar chart of sellers according to cooker sales\n",
    "base_color = sns.color_palette()[0]\n",
    "sns.countplot(data=merged_data, x='type', color = base_color)\n",
    "plt.ylabel('Number of Customers')\n",
    "plt.xlabel('Sales Channel')\n",
    "plt.title('Sales Productivity for Each Channel');"
   ]
  },
  {
   "cell_type": "markdown",
   "id": "32151768",
   "metadata": {},
   "source": [
    "- Which channel is the most productive?\n",
    "> The most productive channel is the Referrer with 970 cooker customers.\n",
    "\n",
    "- Is the most productive channel also the most efficient channel? Why or why not?\n",
    "> The most productive channel is not the most efficient channel. The most efficient channel would be a measure of which channel made the most of it's avaiable resources. From the plot, we see that Referrer has 970 sales, although there are over 10,000 customers who are under the Referrer channel. Meanwhile, there are only 50 CSR and they got 925 sales. If we are to rank sales channels according to efficiency, CSR would be top, followed by Agent, which are 500, and Referrer would be the least efficient.\n",
    "\n",
    "- What opportunities might exist to increase sales productivity?\n",
    "> BURN could invest in recruiting and training more CSR and expanding the sale territory to cover more ground. Also some training and increasing the commision rates for Agents and Referrers channels might be a good way to incentivize them to sell more cookers. When there are more CSR, there will be more Referrers since they are customers for promote the cookers.\n",
    "\n",
    "- What additional data would you want to better answer the above questions?\n",
    "> To gain deeper insights into the performance of BURN's sales channels, we would need information on customer demographics such including age, income and household size to better tailor marketing efforts according to customer demographics. We could also need customer satisfaction survey data to identify potential areas for improvement and optimize sale strategies. Also, collecting data on each sale channel representatives would be helpful to identify attributes of top performers that can be used to optimize training material."
   ]
  },
  {
   "cell_type": "markdown",
   "id": "6692d112",
   "metadata": {},
   "source": [
    "### What is the average monthly fuel consumption per cooker for each channel? "
   ]
  },
  {
   "cell_type": "code",
   "execution_count": 13,
   "id": "4f57367d",
   "metadata": {},
   "outputs": [
    {
     "data": {
      "image/png": "[encoded data removed]",
      "text/plain": [
       "<Figure size 640x480 with 1 Axes>"
      ]
     },
     "metadata": {},
     "output_type": "display_data"
    }
   ],
   "source": [
    "# Calculate the total fuel consumption for each cooker\n",
    "merged_data['total_fuel_consumption'] = merged_data['litres_sold'] * merged_data['tx_date'].dt.daysinmonth / 30\n",
    "\n",
    "# Calculate the average monthly fuel consumption per cooker for each sales channel\n",
    "sales_channel_avg_fuel_consumption = merged_data.groupby('type')['total_fuel_consumption'].mean()\n",
    "\n",
    "# Create a bar chart showing average monthly fuel consumption per cooker for each sales channels\n",
    "sales_channel_avg_fuel_consumption.plot(kind='bar', color=base_color)\n",
    "plt.title('Average Monthly Fuel Consumption per Cooker by Sales Channel')\n",
    "plt.xlabel('Sales Channel')\n",
    "plt.ylabel('Average Monthly Fuel Consumption per Cooker')\n",
    "plt.show();"
   ]
  },
  {
   "cell_type": "markdown",
   "id": "d936ac5d",
   "metadata": {},
   "source": [
    "- Which channel produces the most satisfied customers?\n",
    "> The Agent sales channel produces the most satified customers who make the most use of their cooker and consume the most fuel.\n",
    "\n",
    "- Why might fuel consumption differ by sales channel?\n",
    "> The Agent sales channel has have outlets where BURNpoint fuel dispensers are installed so it will be easy for customers to quickly go for a refill where they run out of fuel which is why they have the highest average monthly fuel consumption. Referrer sales channel, which has the second highest average monthly fuel consumption are already customers so they need the fuel to use their cookers. CSR are mostly just associated with selling cookers which accounts for their low average.\n",
    "\n",
    "- What opportunities might exist to increase fuel consumption?\n",
    "> Increasing the customer base will directly increase the fuel consumption. Therefore BURN should focus on increasing Sales Channel productivity through training of Sales Channels and expanding distribution territory which will lead to more cooker sales and invariably more fuel consumption. Also, using marketing campaigns and promotions with discounts will also catch the attention of users. Another opportunity will be developing and introducing new cooking accessories like baking pans will make customers use their cookers more which will lead to more fuel consumption.\n",
    "\n",
    "- What additional data would you want to better answer the above questions?\n",
    "> Additional data including customer demographics will be helpful to identify those customers who consume the most fuel so BURN can tailor marketing campaigns that will prompt action in those groups of customers. Data containing information on cooker usage will also be useful to gain insights on the factors that influence fuel consumption in households and will help BURN to work on strategies for increased usage."
   ]
  },
  {
   "cell_type": "code",
   "execution_count": 14,
   "id": "a8eb1791",
   "metadata": {},
   "outputs": [],
   "source": [
    "merged_data.to_excel('AnalysticsSkillTest-Answer2.xlsx')"
   ]
  },
  {
   "cell_type": "code",
   "execution_count": null,
   "id": "718ddc29",
   "metadata": {},
   "outputs": [],
   "source": []
  }
 ],
 "metadata": {
  "kernelspec": {
   "display_name": "Python 3 (ipykernel)",
   "language": "python",
   "name": "python3"
  },
  "language_info": {
   "codemirror_mode": {
    "name": "ipython",
    "version": 3
   },
   "file_extension": ".py",
   "mimetype": "text/x-python",
   "name": "python",
   "nbconvert_exporter": "python",
   "pygments_lexer": "ipython3",
   "version": "3.9.13"
  }
 },
 "nbformat": 4,
 "nbformat_minor": 5
}
